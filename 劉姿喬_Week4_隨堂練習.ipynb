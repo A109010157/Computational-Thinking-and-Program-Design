{
  "nbformat": 4,
  "nbformat_minor": 0,
  "metadata": {
    "colab": {
      "name": "劉姿喬-Week4-隨堂練習.ipynb",
      "provenance": [],
      "authorship_tag": "ABX9TyPBPBljDhFlU2/wH/swVkZO",
      "include_colab_link": true
    },
    "kernelspec": {
      "name": "python3",
      "display_name": "Python 3"
    }
  },
  "cells": [
    {
      "cell_type": "markdown",
      "metadata": {
        "id": "view-in-github",
        "colab_type": "text"
      },
      "source": [
        "<a href=\"https://colab.research.google.com/github/A109010157/Computational-Thinking-and-Program-Design/blob/main/%E5%8A%89%E5%A7%BF%E5%96%AC_Week4_%E9%9A%A8%E5%A0%82%E7%B7%B4%E7%BF%92.ipynb\" target=\"_parent\"><img src=\"https://colab.research.google.com/assets/colab-badge.svg\" alt=\"Open In Colab\"/></a>"
      ]
    },
    {
      "cell_type": "markdown",
      "metadata": {
        "id": "z4NaB2uGVPmH"
      },
      "source": [
        "#隨堂練習\r\n"
      ]
    },
    {
      "cell_type": "markdown",
      "metadata": {
        "id": "sC3TwwlsV0BF"
      },
      "source": [
        "#課後練習\r\n",
        "**從一則新聞報導，提出你對新聞系（OO系）學生為什麼要學「運算思維與程式設計」的見解。（告訴我新聞連結，以及你的觀點即可。）**\r\n"
      ]
    },
    {
      "cell_type": "markdown",
      "metadata": {
        "id": "y8aFrANnYIMG"
      },
      "source": [
        "https://www.cw.com.tw/article/5080736\r\n",
        "學程式培養「運算思維」，做事更精確、有效率，在寫程式之前，必須先定義步驟、流程，再將之模組化。所以習慣寫程式的人在遇到問題時，會開始考慮所有可能性，把工作拆解、步驟化等，久而久之，就變成他的思考模式。也可使做事更精準，思考更有邏輯。\r\n"
      ]
    },
    {
      "cell_type": "code",
      "metadata": {
        "id": "cSDrh_sHXy0Y"
      },
      "source": [
        ""
      ],
      "execution_count": null,
      "outputs": []
    }
  ]
}